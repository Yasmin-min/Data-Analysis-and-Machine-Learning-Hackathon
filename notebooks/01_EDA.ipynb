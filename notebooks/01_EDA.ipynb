{
 "cells": [
  {
   "cell_type": "markdown",
   "id": "67a1de1a",
   "metadata": {},
   "source": [
    "# Dentro do Jupyter Notebook, copie e cole este Markdown na primeira célula:\n",
    "\n",
    "# Análise Exploratória de Dados (EDA)\n",
    "**Hackathon de Análise de Dados e Machine Learning**  \n",
    "Professor: Howard Cruz  \n",
    "Alunos: Eve Chalab, Wilton Oliveira, Yasmin Neumman, Yasmin Souza\n",
    "\n",
    "---\n",
    "\n",
    "## Objetivo\n",
    "Analisar as distribuições das variáveis, verificar valores nulos, outliers, correlações com a variável alvo e preparar o dataset para a modelagem.\n",
    "\n",
    "---\n",
    "\n",
    "## Etapas\n",
    "- Leitura dos dados\n",
    "- Análise de valores ausentes\n",
    "- Estatísticas descritivas\n",
    "- Correlações com `SalePrice`\n",
    "- Gráficos e insights visuais\n"
   ]
  }
 ],
 "metadata": {
  "language_info": {
   "name": "python"
  }
 },
 "nbformat": 4,
 "nbformat_minor": 5
}
